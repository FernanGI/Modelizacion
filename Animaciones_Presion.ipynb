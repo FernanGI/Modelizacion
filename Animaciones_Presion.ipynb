{
 "cells": [
  {
   "cell_type": "code",
   "execution_count": 1,
   "id": "0e89ff35",
   "metadata": {},
   "outputs": [],
   "source": [
    "from netCDF4 import Dataset\n",
    "import wrf\n",
    "import xarray as xr\n",
    "import numpy as np\n",
    "\n",
    "import cartopy.crs as crs\n",
    "\n",
    "\n",
    "from matplotlib.cm import get_cmap\n",
    "import matplotlib.pyplot as plt\n",
    "import matplotlib.image as mpimg\n",
    "import cartopy.feature as cfe\n",
    "\n",
    "import pandas as pd\n",
    "\n",
    "\n",
    "import matplotlib.pyplot as plt\n",
    "\n",
    "\n",
    "\n",
    "from cartopy.feature import NaturalEarthFeature\n",
    "\n",
    "import cartopy.io.shapereader as shpr\n",
    "\n",
    "import cartopy.io.img_tiles as cimgt\n",
    "\n",
    "from wrf import (to_np, getvar, smooth2d, get_cartopy, cartopy_xlim,\n",
    "                 cartopy_ylim, latlon_coords)\n",
    "\n",
    "from matplotlib.cm import get_cmap\n",
    "from wrf import getvar, interplevel, to_np, get_basemap, latlon_coords\n",
    "import imageio"
   ]
  },
  {
   "cell_type": "code",
   "execution_count": 2,
   "id": "73b7af10",
   "metadata": {},
   "outputs": [],
   "source": [
    "stamen_terrain = cimgt.Stamen('terrain-background')\n",
    "\n",
    "states = NaturalEarthFeature(category=\"cultural\", scale=\"10m\",\n",
    "                                 facecolor=\"none\",\n",
    "                                 name=\"admin_1_states_provinces_shp\")\n",
    "stt = NaturalEarthFeature(category='cultural', \n",
    "    name='admin_0_boundary_lines_land',\n",
    "    scale='10m',facecolor='none')\n",
    "stt_prv = states\n",
    "roads = NaturalEarthFeature(category='cultural',\n",
    "                                     name='roads',\n",
    "                                     scale='10m',\n",
    "                                     facecolor='none')"
   ]
  },
  {
   "cell_type": "markdown",
   "id": "ddbdb3cc",
   "metadata": {},
   "source": [
    "# Presión\n",
    "## Función para hacer las animaciones de la presión"
   ]
  },
  {
   "cell_type": "code",
   "execution_count": 29,
   "id": "2ad6ffce",
   "metadata": {},
   "outputs": [],
   "source": [
    "# Abrir el dataset\n",
    "def gif_presion(fichero,dominio):\n",
    "    ncfile = Dataset(fichero)\n",
    "    for i in range(0,168):\n",
    "        \n",
    "        # Leer la presión a nivel del mar en eltiempo t \n",
    "        slp = getvar(ncfile, \"slp\",timeidx=i)\n",
    "\n",
    "        #Para suavizar la presión a nivel del mar\n",
    "        smooth_slp = smooth2d(slp, 3, cenweight=4)\n",
    "\n",
    "        # Para leer la latitud y la longitud\n",
    "        lats, lons = latlon_coords(slp)\n",
    "\n",
    "        #Para leer la proyección en la que se ha hecho\n",
    "        cart_proj = get_cartopy(slp)\n",
    "\n",
    "        # Crear la figura para mostrarlo\n",
    "        fig = plt.figure(figsize=(12,6))\n",
    "\n",
    "        #Poner los GeoAxes en la proyección usada por el modelo \n",
    "        ax = plt.axes(projection=cart_proj)\n",
    "\n",
    "        #Para mostrar las lineas de costa\n",
    "        ax.coastlines('50m', linewidth=0.8)\n",
    "\n",
    "        #Para hacer el contorno de los puntos que tienen misma presión\n",
    "        plt.contour(to_np(lons), to_np(lats), to_np(smooth_slp),levels=[j for j in range(1000, 1031)] , colors=\"black\",\n",
    "                    transform=crs.PlateCarree(),linewidth=0.1)\n",
    "        #Para rellenar lo puntos que tienen la misma presión\n",
    "        contorno_slp= plt.contourf(to_np(lons), to_np(lats), to_np(smooth_slp),\n",
    "                     transform=crs.PlateCarree(),\n",
    "                    levels=[j for j in range(1000, 1031)],\n",
    "                     cmap=get_cmap(\"jet\"))\n",
    "\n",
    "        # Add a color bar\n",
    "        plt.colorbar(ax=ax, shrink=.98)\n",
    "\n",
    "        # Set the map bounds\n",
    "        ax.set_xlim(cartopy_xlim(smooth_slp))\n",
    "        ax.set_ylim(cartopy_ylim(smooth_slp))\n",
    "\n",
    "        # Add the gridlines\n",
    "        ax.gridlines(color=\"gray\", linestyle=\"dotted\")\n",
    "\n",
    "        ax.add_feature(states, linewidth=.9, edgecolor=\"black\")\n",
    "\n",
    "        #Mostrar las carreteras \n",
    "        ax.add_feature(roads,linewidth=.4, edgecolor=\"black\")\n",
    "\n",
    "        plt.title(\"Presion al nivel del mar (hPa)\\n Día {} de Mayo Hora {}:00:00\".format(int(i/24)+11,(i-int(i/24)*24)))\n",
    "        plt.savefig('figs/d{}/presion/d{}_presion_{}.png'.format(dominio, dominio,i))\n",
    "        #Para que no se muestren las imágenes\n",
    "        plt.close(fig)\n",
    "\n",
    "\n",
    "\n",
    "    with imageio.get_writer('figs/d{}/d{}_presion.gif'.format(dominio,dominio), mode='I') as writer:\n",
    "        for i in range(0,168):\n",
    "            for j in range(0,3):\n",
    "                filename = 'figs/d{}/presion/d{}_presion_{}.png'.format(dominio,dominio,i)\n",
    "                image = imageio.imread(filename)\n",
    "                writer.append_data(image)"
   ]
  },
  {
   "cell_type": "markdown",
   "id": "bf1c7078",
   "metadata": {},
   "source": [
    "## Dominio 1"
   ]
  },
  {
   "cell_type": "code",
   "execution_count": 30,
   "id": "0cfc4b90",
   "metadata": {},
   "outputs": [],
   "source": [
    "gif_presion('wrfout_d01_2021-05-11_00:00:00',\"01\")"
   ]
  },
  {
   "cell_type": "markdown",
   "id": "0f067371",
   "metadata": {},
   "source": [
    "<img src=\"figs/d01/d01_presion.gif\" />"
   ]
  },
  {
   "cell_type": "markdown",
   "id": "f498cc6e",
   "metadata": {},
   "source": [
    "## Dominio 2"
   ]
  },
  {
   "cell_type": "code",
   "execution_count": 7,
   "id": "458dd676",
   "metadata": {},
   "outputs": [],
   "source": [
    "gif_presion('wrfout_d02_2021-05-11_00:00:00',\"02\")"
   ]
  },
  {
   "cell_type": "markdown",
   "id": "a6e78db9",
   "metadata": {},
   "source": [
    "<img src=\"figs/d02/d02_presion.gif\" />"
   ]
  },
  {
   "cell_type": "markdown",
   "id": "dded12e4",
   "metadata": {},
   "source": [
    "## Dominio 3\n"
   ]
  },
  {
   "cell_type": "code",
   "execution_count": 11,
   "id": "25afd9de",
   "metadata": {},
   "outputs": [
    {
     "name": "stderr",
     "output_type": "stream",
     "text": [
      "/home/fernan/miniconda3/envs/ncl_stable/lib/python3.8/site-packages/cartopy/mpl/geoaxes.py:1478: UserWarning: No contour levels were found within the data range.\n",
      "  result = matplotlib.axes.Axes.contour(self, *args, **kwargs)\n"
     ]
    }
   ],
   "source": [
    "gif_presion('wrfout_d03_2021-05-11_00:00:00',\"03\")"
   ]
  },
  {
   "cell_type": "markdown",
   "id": "445732ec",
   "metadata": {},
   "source": [
    "<img src=\"figs/d03/d03_presion.gif\" />"
   ]
  },
  {
   "cell_type": "markdown",
   "id": "866ecefd",
   "metadata": {},
   "source": [
    "# Mostrar los 3 dominios"
   ]
  },
  {
   "cell_type": "code",
   "execution_count": 25,
   "id": "d57e0efd",
   "metadata": {},
   "outputs": [],
   "source": [
    "# Abrir el dataset\n",
    "def gif_presion_3_doms(fichero):\n",
    "    ncfile_01 = Dataset(fichero[0])\n",
    "    ncfile_02 = Dataset(fichero[1])\n",
    "    ncfile_03 = Dataset(fichero[2])\n",
    "\n",
    "    for i in range(0,168):\n",
    "        # Leer la presión a nivel del mar en eltiempo t \n",
    "        slp_01 = getvar(ncfile_01, \"slp\",timeidx=i)\n",
    "        slp_02 = getvar(ncfile_02, \"slp\",timeidx=i)\n",
    "        slp_03 = getvar(ncfile_03, \"slp\",timeidx=i)\n",
    "        \n",
    "        #Para suavizar la presión a nivel del mar\n",
    "        smooth_slp_1 = smooth2d(slp_01, 3, cenweight=4)\n",
    "        smooth_slp_2 = smooth2d(slp_02, 3, cenweight=4)\n",
    "        smooth_slp_3 = smooth2d(slp_03, 3, cenweight=4)\n",
    "\n",
    "        #Para leer la proyección en la que se ha hecho\n",
    "        cart_proj = get_cartopy(slp_03)\n",
    "\n",
    "        # Crear la figura para mostrarlo\n",
    "        fig = plt.figure(figsize=(15, 6))\n",
    "        \n",
    "        niveles = [j for j in range(1000, 1031)]\n",
    "        #Ciudad de Madrid\n",
    "        # Para leer la latitud y la longitud\n",
    "        lats, lons = latlon_coords(slp_03)\n",
    "        \n",
    "        ax = fig.add_subplot(1, 5, (1,4), projection=cart_proj)\n",
    "        # Set the map bounds\n",
    "        ax.set_xlim(cartopy_xlim(smooth_slp_3))\n",
    "        ax.set_ylim(cartopy_ylim(smooth_slp_3))\n",
    "        \n",
    "        ax.set_title('Presión al nivel del mar en Madrid \\n Día {} Hora {}:00:00'.format(int(i/24)+11,(i-int(i/24)*24)), fontsize=16)\n",
    "        ax.coastlines('50m', linewidth=0.8)\n",
    "    \n",
    "        #Para hacer el contorno de los puntos que tienen misma presión\n",
    "        plt.contour(to_np(lons), to_np(lats), to_np(smooth_slp_3),levels=niveles, \n",
    "                    colors=\"black\",\n",
    "                    transform=crs.PlateCarree(),linewidth=0.1)\n",
    "        #Para rellenar lo puntos que tienen la misma presión\n",
    "        contorno_slp= plt.contourf(to_np(lons), to_np(lats), to_np(smooth_slp_3),\n",
    "                     transform=crs.PlateCarree(),\n",
    "                    levels=niveles,\n",
    "                     cmap=get_cmap(\"jet\"))\n",
    "\n",
    "        # Add a color bar\n",
    "        plt.colorbar(contorno_slp,ax=ax, shrink=.98)\n",
    "        ax.add_feature(stt, linewidth=0.2, edgecolor='black')\n",
    "        \n",
    "        #Mostrar las carreteras \n",
    "        ax.add_feature(roads,linewidth=.4, edgecolor=\"black\")\n",
    "\n",
    "        # Add the gridlines\n",
    "        ax.gridlines(color=\"gray\", linestyle=\"dotted\")\n",
    "\n",
    "        \n",
    "        \n",
    "        \n",
    "        # Comunidad de Madrid\n",
    "        lats, lons = latlon_coords(slp_02)\n",
    "        \n",
    "        ax_2 = fig.add_subplot(2, 5, 5,projection=cart_proj)\n",
    "        \n",
    "        ax_2.set_xlim(cartopy_xlim(smooth_slp_2))\n",
    "        ax_2.set_ylim(cartopy_ylim(smooth_slp_2))\n",
    "        \n",
    "        ax_2.set_title('Comunidad de Madrid', fontsize=8)\n",
    "        \n",
    "        ax_2.coastlines('50m', linewidth=0.8)\n",
    "\n",
    "        \n",
    "        plt.contour(to_np(lons), to_np(lats), to_np(smooth_slp_2),levels=niveles,\n",
    "                    colors=\"black\",\n",
    "                    transform=crs.PlateCarree(),linewidth=0.1)\n",
    "        \n",
    "        #Para rellenar lo puntos que tienen la misma presión\n",
    "        contorno_slp= plt.contourf(to_np(lons), to_np(lats), to_np(smooth_slp_2),\n",
    "                     transform=crs.PlateCarree(),\n",
    "                    levels=niveles,\n",
    "                     cmap=get_cmap(\"jet\"))\n",
    "        \n",
    "        ax_2.add_feature(stt,     linewidth=0.5, edgecolor='black')\n",
    "        ax_2.add_feature(stt_prv, linewidth=0.2, edgecolor='black')\n",
    "        ax_2.add_feature(roads,linewidth=.4, edgecolor=\"black\")\n",
    "        \n",
    "        \n",
    "        \n",
    "        \n",
    "        #España\n",
    "        lats, lons = latlon_coords(slp_01)\n",
    "        \n",
    "        ax_1 = fig.add_subplot(2, 5, 10, projection=cart_proj)\n",
    "        \n",
    "        ax_1.set_title('España', fontsize=8)\n",
    "        ax_1.coastlines('50m', linewidth=0.8)\n",
    "        \n",
    "        plt.contour(to_np(lons), to_np(lats), to_np(smooth_slp_1),levels=niveles, colors=\"black\",\n",
    "                    transform=crs.PlateCarree(),linewidth=0.1)\n",
    "        #Para rellenar lo puntos que tienen la misma presión\n",
    "        contorno_slp= plt.contourf(to_np(lons), to_np(lats), to_np(smooth_slp_1),\n",
    "                     transform=crs.PlateCarree(),\n",
    "                    levels=niveles,\n",
    "                     cmap=get_cmap(\"jet\"))\n",
    "        \n",
    "        ax_1.add_feature(stt,     linewidth=0.5, edgecolor='black', zorder=0)\n",
    "        ax_1.add_feature(stt_prv, linewidth=0.2, edgecolor='black', zorder=5)\n",
    "        ax_1.add_feature(roads,linewidth=.4, edgecolor=\"black\")\n",
    "\n",
    "        \n",
    "\n",
    "        \n",
    "        plt.savefig('figs/presion/presion_{}.png'.format(i))\n",
    "        #Para que no se muestren las imágenes\n",
    "        plt.close(fig)\n",
    "\n",
    "    with imageio.get_writer('figs/presion.gif', mode='I') as writer:\n",
    "            for i in range(0,56):\n",
    "                for j in range(0,3):\n",
    "                    filename = 'figs/presion/presion_{}.png'.format(i)\n",
    "                    image = imageio.imread(filename)\n",
    "                    writer.append_data(image)    "
   ]
  },
  {
   "cell_type": "code",
   "execution_count": 26,
   "id": "0b2e06e4",
   "metadata": {},
   "outputs": [],
   "source": [
    "gif_presion_3_doms(['wrfout_d01_2021-05-11_00:00:00',\n",
    "                        'wrfout_d02_2021-05-11_00:00:00',\n",
    "                        'wrfout_d03_2021-05-11_00:00:00'])"
   ]
  },
  {
   "cell_type": "markdown",
   "id": "1908fb70",
   "metadata": {},
   "source": [
    "<img src=\"figs/pression.gif\"/>"
   ]
  },
  {
   "cell_type": "code",
   "execution_count": null,
   "id": "ae97e23f",
   "metadata": {},
   "outputs": [],
   "source": []
  }
 ],
 "metadata": {
  "kernelspec": {
   "display_name": "Python 3",
   "language": "python",
   "name": "python3"
  },
  "language_info": {
   "codemirror_mode": {
    "name": "ipython",
    "version": 3
   },
   "file_extension": ".py",
   "mimetype": "text/x-python",
   "name": "python",
   "nbconvert_exporter": "python",
   "pygments_lexer": "ipython3",
   "version": "3.8.5"
  }
 },
 "nbformat": 4,
 "nbformat_minor": 5
}
