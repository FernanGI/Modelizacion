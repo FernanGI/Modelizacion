{
 "cells": [
  {
   "cell_type": "code",
   "execution_count": 1,
   "id": "74c61979",
   "metadata": {},
   "outputs": [
    {
     "ename": "ModuleNotFoundError",
     "evalue": "No module named 'netCDF4'",
     "output_type": "error",
     "traceback": [
      "\u001b[0;31m---------------------------------------------------------------------------\u001b[0m",
      "\u001b[0;31mModuleNotFoundError\u001b[0m                       Traceback (most recent call last)",
      "\u001b[0;32m<ipython-input-1-56f101f246e1>\u001b[0m in \u001b[0;36m<module>\u001b[0;34m\u001b[0m\n\u001b[0;32m----> 1\u001b[0;31m \u001b[0;32mfrom\u001b[0m \u001b[0mnetCDF4\u001b[0m \u001b[0;32mimport\u001b[0m \u001b[0mDataset\u001b[0m\u001b[0;34m\u001b[0m\u001b[0;34m\u001b[0m\u001b[0m\n\u001b[0m\u001b[1;32m      2\u001b[0m \u001b[0;32mimport\u001b[0m \u001b[0mwrf\u001b[0m\u001b[0;34m\u001b[0m\u001b[0;34m\u001b[0m\u001b[0m\n\u001b[1;32m      3\u001b[0m \u001b[0;32mimport\u001b[0m \u001b[0mxarray\u001b[0m \u001b[0;32mas\u001b[0m \u001b[0mxr\u001b[0m\u001b[0;34m\u001b[0m\u001b[0;34m\u001b[0m\u001b[0m\n\u001b[1;32m      4\u001b[0m \u001b[0;32mimport\u001b[0m \u001b[0mnumpy\u001b[0m \u001b[0;32mas\u001b[0m \u001b[0mnp\u001b[0m\u001b[0;34m\u001b[0m\u001b[0;34m\u001b[0m\u001b[0m\n\u001b[1;32m      5\u001b[0m \u001b[0;34m\u001b[0m\u001b[0m\n",
      "\u001b[0;31mModuleNotFoundError\u001b[0m: No module named 'netCDF4'"
     ]
    }
   ],
   "source": [
    "from netCDF4 import Dataset\n",
    "import wrf\n",
    "import xarray as xr\n",
    "import numpy as np\n",
    "\n",
    "import cartopy.crs as crs\n",
    "\n",
    "\n",
    "from matplotlib.cm import get_cmap\n",
    "import matplotlib.pyplot as plt\n",
    "import matplotlib.image as mpimg\n",
    "import cartopy.feature as cfe\n",
    "\n",
    "import pandas as pd\n",
    "\n",
    "\n",
    "import matplotlib.pyplot as plt\n",
    "\n",
    "\n",
    "\n",
    "from cartopy.feature import NaturalEarthFeature\n",
    "\n",
    "import cartopy.io.shapereader as shpr\n",
    "\n",
    "import cartopy.io.img_tiles as cimgt\n",
    "\n",
    "from wrf import (to_np, getvar, smooth2d, get_cartopy, cartopy_xlim,\n",
    "                 cartopy_ylim, latlon_coords)\n",
    "\n",
    "from matplotlib.cm import get_cmap\n",
    "from wrf import getvar, interplevel, to_np, get_basemap, latlon_coords\n",
    "import imageio"
   ]
  },
  {
   "cell_type": "code",
   "execution_count": 2,
   "id": "1ed5ff7a",
   "metadata": {},
   "outputs": [
    {
     "ename": "NameError",
     "evalue": "name 'cimgt' is not defined",
     "output_type": "error",
     "traceback": [
      "\u001b[0;31m---------------------------------------------------------------------------\u001b[0m",
      "\u001b[0;31mNameError\u001b[0m                                 Traceback (most recent call last)",
      "\u001b[0;32m<ipython-input-2-df8f738596d4>\u001b[0m in \u001b[0;36m<module>\u001b[0;34m\u001b[0m\n\u001b[0;32m----> 1\u001b[0;31m \u001b[0mstamen_terrain\u001b[0m \u001b[0;34m=\u001b[0m \u001b[0mcimgt\u001b[0m\u001b[0;34m.\u001b[0m\u001b[0mStamen\u001b[0m\u001b[0;34m(\u001b[0m\u001b[0;34m'terrain-background'\u001b[0m\u001b[0;34m)\u001b[0m\u001b[0;34m\u001b[0m\u001b[0;34m\u001b[0m\u001b[0m\n\u001b[0m\u001b[1;32m      2\u001b[0m \u001b[0;34m\u001b[0m\u001b[0m\n\u001b[1;32m      3\u001b[0m states = NaturalEarthFeature(category=\"cultural\", scale=\"10m\",\n\u001b[1;32m      4\u001b[0m                                  \u001b[0mfacecolor\u001b[0m\u001b[0;34m=\u001b[0m\u001b[0;34m\"none\"\u001b[0m\u001b[0;34m,\u001b[0m\u001b[0;34m\u001b[0m\u001b[0;34m\u001b[0m\u001b[0m\n\u001b[1;32m      5\u001b[0m                                  name=\"admin_1_states_provinces_shp\")\n",
      "\u001b[0;31mNameError\u001b[0m: name 'cimgt' is not defined"
     ]
    }
   ],
   "source": [
    "stamen_terrain = cimgt.Stamen('terrain-background')\n",
    "\n",
    "states = NaturalEarthFeature(category=\"cultural\", scale=\"10m\",\n",
    "                                 facecolor=\"none\",\n",
    "                                 name=\"admin_1_states_provinces_shp\")\n",
    "roads = NaturalEarthFeature(category='cultural',\n",
    "                                     name='roads',\n",
    "                                     scale='10m',\n",
    "                                     facecolor='none')"
   ]
  },
  {
   "cell_type": "markdown",
   "id": "baa06da5",
   "metadata": {},
   "source": [
    "# Dirección y velocidad del viento\n",
    "## Función para hacer las animaciones de la dirección y velocidad del viento"
   ]
  },
  {
   "cell_type": "code",
   "execution_count": 3,
   "id": "ad55081f",
   "metadata": {},
   "outputs": [],
   "source": [
    "# Abrir el dataset\n",
    "def gif_viento(dominio):\n",
    "    ncfile = Dataset('wrfout_d{}_2021-05-11_00:00:00'.format(dominio))\n",
    "\n",
    "    for i in range(0, 169):\n",
    "\n",
    "        ua = getvar(ncfile, \"uvmet10\", units=\"kt\",timeidx=i)[0,:]\n",
    "        va = getvar(ncfile, \"uvmet10\", units=\"kt\",timeidx=i)[1,:]\n",
    "        wspd = getvar(ncfile, \"wspd_wdir10\", units=\"kt\",timeidx=i)[0,:]\n",
    "\n",
    "\n",
    "\n",
    "        # Get the lat/lon coordinates\n",
    "        lats, lons = latlon_coords(wspd)\n",
    "\n",
    "        # Get the map projection information\n",
    "        cart_proj = get_cartopy(wspd)\n",
    "\n",
    "        # Create the figure\n",
    "        fig = plt.figure(figsize=(12,9))\n",
    "        ax = plt.axes(projection=cart_proj)\n",
    "\n",
    "\n",
    "        # Add the wind speed contours\n",
    "        levels = [j for j in range(0,50, 6)]\n",
    "        wspd_contours = plt.contourf(to_np(lons), to_np(lats), to_np(wspd),\n",
    "                                     levels=levels,\n",
    "                                     cmap=get_cmap(\"jet\"),\n",
    "                                     transform=crs.PlateCarree())\n",
    "        plt.colorbar( wspd_contours,ax=ax, orientation=\"horizontal\", pad=.1)\n",
    "\n",
    "        # Add the 500 hPa wind barbs, only plotting every 125th data point.\n",
    "        plt.barbs(to_np(lons[::3,::3]), to_np(lats[::3,::3]),to_np(ua[::3, ::3]), to_np(va[::3, ::3]),transform=crs.PlateCarree(), length=4)\n",
    "\n",
    "        # Set the map bounds\n",
    "        ax.set_xlim(cartopy_xlim(wspd))\n",
    "        ax.set_ylim(cartopy_ylim(wspd))\n",
    "\n",
    "        ax.add_feature(roads, edgecolor=\"black\" ,linewidth=0.5)\n",
    "        ax.add_feature(states, linewidth=.7, edgecolor=\"black\")\n",
    "\n",
    "        ax.gridlines()\n",
    "\n",
    "        ax.add_feature(states, linewidth=0.5, edgecolor=\"black\")\n",
    "        ax.coastlines('50m', linewidth=0.8)\n",
    "        \n",
    "        dia = int(i*3/24)\n",
    "        hora =i*3 - dia*24\n",
    "        \n",
    "        plt.title(\"10 M de Altura, Velocidad del viento (kt), Barras de viento (kt) \\n Dia {} Hora {}:00:00\".format(dia+11,hora))\n",
    "\n",
    "        plt.savefig('figs/d{}/viento/d{}_viento_{}.png'.format(dominio,dominio,i))\n",
    "        plt.close(fig)\n",
    "\n",
    "\n",
    "    with imageio.get_writer('figs/d{}/d{}_viento.gif'.format(dominio,dominio), mode='I') as writer:\n",
    "        for i in range(0,169):\n",
    "            filename = 'figs/d{}/viento/d{}_viento_{}.png'.format(dominio,dominio,i)\n",
    "            image = imageio.imread(filename)\n",
    "            writer.append_data(image)"
   ]
  },
  {
   "cell_type": "markdown",
   "id": "8c1a831b",
   "metadata": {},
   "source": [
    "## Dominio 1"
   ]
  },
  {
   "cell_type": "code",
   "execution_count": 4,
   "id": "0286c9aa",
   "metadata": {},
   "outputs": [],
   "source": [
    "gif_viento(\"01\")"
   ]
  },
  {
   "cell_type": "markdown",
   "id": "8c1f5ca7",
   "metadata": {},
   "source": [
    "<img src=\"figs/d01/d01_viento.gif\" />"
   ]
  },
  {
   "cell_type": "markdown",
   "id": "91e16ecc",
   "metadata": {},
   "source": [
    "## Dominio 2"
   ]
  },
  {
   "cell_type": "code",
   "execution_count": 10,
   "id": "a9e36161",
   "metadata": {},
   "outputs": [],
   "source": [
    "gif_viento(\"02\")"
   ]
  },
  {
   "cell_type": "markdown",
   "id": "a0197716",
   "metadata": {},
   "source": [
    "<img src=\"figs/d02/d02_viento.gif\" />"
   ]
  },
  {
   "cell_type": "markdown",
   "id": "5d53cf64",
   "metadata": {},
   "source": [
    "## Dominio 3\n"
   ]
  },
  {
   "cell_type": "code",
   "execution_count": 11,
   "id": "bca4463c",
   "metadata": {},
   "outputs": [],
   "source": [
    "gif_viento(\"03\")"
   ]
  },
  {
   "cell_type": "markdown",
   "id": "ccc4d1bd",
   "metadata": {},
   "source": [
    "<img src=\"figs/d03/d03_viento.gif\" />"
   ]
  }
 ],
 "metadata": {
  "kernelspec": {
   "display_name": "Python 3",
   "language": "python",
   "name": "python3"
  },
  "language_info": {
   "codemirror_mode": {
    "name": "ipython",
    "version": 3
   },
   "file_extension": ".py",
   "mimetype": "text/x-python",
   "name": "python",
   "nbconvert_exporter": "python",
   "pygments_lexer": "ipython3",
   "version": "3.8.5"
  }
 },
 "nbformat": 4,
 "nbformat_minor": 5
}
