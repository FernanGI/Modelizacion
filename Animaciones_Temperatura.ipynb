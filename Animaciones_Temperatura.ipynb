{
 "cells": [
  {
   "cell_type": "code",
   "execution_count": 1,
   "id": "74c61979",
   "metadata": {},
   "outputs": [],
   "source": [
    "from netCDF4 import Dataset\n",
    "import wrf\n",
    "import xarray as xr\n",
    "import numpy as np\n",
    "\n",
    "import cartopy.crs as crs\n",
    "\n",
    "\n",
    "from matplotlib.cm import get_cmap\n",
    "import matplotlib.pyplot as plt\n",
    "import matplotlib.image as mpimg\n",
    "import cartopy.feature as cfe\n",
    "\n",
    "import pandas as pd\n",
    "\n",
    "\n",
    "import matplotlib.pyplot as plt\n",
    "\n",
    "\n",
    "\n",
    "from cartopy.feature import NaturalEarthFeature\n",
    "\n",
    "import cartopy.io.shapereader as shpr\n",
    "\n",
    "import cartopy.io.img_tiles as cimgt\n",
    "\n",
    "from wrf import (to_np, getvar, smooth2d, get_cartopy, cartopy_xlim,\n",
    "                 cartopy_ylim, latlon_coords)\n",
    "\n",
    "from matplotlib.cm import get_cmap\n",
    "from wrf import getvar, interplevel, to_np, get_basemap, latlon_coords\n",
    "import imageio"
   ]
  },
  {
   "cell_type": "code",
   "execution_count": 2,
   "id": "1ed5ff7a",
   "metadata": {},
   "outputs": [],
   "source": [
    "stamen_terrain = cimgt.Stamen('terrain-background')\n",
    "\n",
    "states = NaturalEarthFeature(category=\"cultural\", scale=\"10m\",\n",
    "                                 facecolor=\"none\",\n",
    "                                 name=\"admin_1_states_provinces_shp\")\n",
    "stt = NaturalEarthFeature(category='cultural', \n",
    "    name='admin_0_boundary_lines_land',\n",
    "    scale='10m',facecolor='none')\n",
    "stt_prv = states\n",
    "\n",
    "roads = NaturalEarthFeature(category='cultural',\n",
    "                                     name='roads',\n",
    "                                     scale='10m',\n",
    "                                     facecolor='none')"
   ]
  },
  {
   "cell_type": "markdown",
   "id": "baa06da5",
   "metadata": {},
   "source": [
    "# Temperatura\n",
    "## Función para hacer las animaciones de la temperatura a dos metros"
   ]
  },
  {
   "cell_type": "code",
   "execution_count": 12,
   "id": "28ee3cad",
   "metadata": {},
   "outputs": [],
   "source": [
    "# Abrir el dataset\n",
    "def gif_temperatura(fichero,dominio):\n",
    "    ncfile = Dataset(fichero)\n",
    "    for i in range(0,169):\n",
    "        # Leer la temperatura a 2 metros en eltiempo i \n",
    "        T2= getvar(ncfile, \"T2\",timeidx=i)\n",
    "\n",
    "        #Calcular el día\n",
    "        dia = int(i/24)\n",
    "        hora =i- dia*24\n",
    "        # Para leer la latitud y la longitud\n",
    "        lats, lons = latlon_coords(T2)\n",
    "\n",
    "        #Para leer la proyección en la que se ha hecho\n",
    "        cart_proj = get_cartopy(T2)\n",
    "\n",
    "        # Crear la figura para mostrarlo\n",
    "        fig = plt.figure(figsize=(12,6))\n",
    "\n",
    "        #Poner los GeoAxes en la proyección usada por el modelo \n",
    "        ax = plt.axes(projection=cart_proj)\n",
    "\n",
    "        #Para mostrar las lineas de costa\n",
    "        ax.coastlines('50m', linewidth=0.8)\n",
    "\n",
    "        #Para hacer el contorno de los puntos que tienen misma temperatura\n",
    "        #plt.contour(to_np(lons), to_np(lats), to_np(T2),  colors=\"gray\",levels=   [j for j in range(270,302, 1)], transform=crs.PlateCarree(),linewidth=0.1)\n",
    "                 \n",
    "               \n",
    "        #Para rellenar lo puntos que tienen la misma temperatura\n",
    "        T2_contorno = plt.contourf(to_np(lons), to_np(lats), to_np(T2),\n",
    "                 transform=crs.PlateCarree(),\n",
    "                levels = [j for j in range(270,310, 1)],\n",
    "                 cmap=get_cmap(\"jet\"))\n",
    "\n",
    "\n",
    "        # Add a color bar\n",
    "        plt.colorbar(T2_contorno, ax=ax, shrink=.98)\n",
    "\n",
    "        # Set the map bounds\n",
    "        ax.set_xlim(cartopy_xlim(T2))\n",
    "        ax.set_ylim(cartopy_ylim(T2))\n",
    "\n",
    "        # Add the gridlines\n",
    "        ax.gridlines(color=\"gray\", linestyle=\"dotted\")\n",
    "\n",
    "        ax.add_feature(states, linewidth=.9, edgecolor=\"black\")\n",
    "\n",
    "        #Mostrar las carreteras \n",
    "        ax.add_feature(roads,linewidth=.4, edgecolor=\"black\")\n",
    "\n",
    "        plt.title(\"Temperatura a 2 metros (K) \\n Dia {} Hora {}:00:00\".format(dia+11,hora))\n",
    "        plt.savefig('figs/d{}/temperatura/d{}_temperatura_{}.png'.format(dominio, dominio,i))\n",
    "        #Para que no se muestren las imágenes\n",
    "        plt.close(fig)\n",
    "            \n",
    "    with imageio.get_writer('figs/d{}/d{}_temperatura.gif'.format(dominio,dominio), mode='I') as writer:\n",
    "        for i in range(0,169):\n",
    "            for j in range(0,4):\n",
    "                filename = 'figs/d{}/temperatura/d{}_temperatura_{}.png'.format(dominio,dominio,i)\n",
    "                image = imageio.imread(filename)\n",
    "                writer.append_data(image)"
   ]
  },
  {
   "cell_type": "markdown",
   "id": "8c1a831b",
   "metadata": {},
   "source": [
    "## Dominio 1"
   ]
  },
  {
   "cell_type": "code",
   "execution_count": 13,
   "id": "0286c9aa",
   "metadata": {},
   "outputs": [],
   "source": [
    "gif_temperatura('wrfout_d01_2021-05-11_00:00:00',\"01\")"
   ]
  },
  {
   "cell_type": "markdown",
   "id": "8c1f5ca7",
   "metadata": {},
   "source": [
    "<img src=\"figs/d01/d01_temperatura.gif\" />"
   ]
  },
  {
   "cell_type": "markdown",
   "id": "91e16ecc",
   "metadata": {},
   "source": [
    "## Dominio 2"
   ]
  },
  {
   "cell_type": "code",
   "execution_count": 21,
   "id": "a9e36161",
   "metadata": {},
   "outputs": [],
   "source": [
    "gif_temperatura('wrfout_d02_2021-05-11_00:00:00',\"02\")"
   ]
  },
  {
   "cell_type": "markdown",
   "id": "a0197716",
   "metadata": {},
   "source": [
    "<img src=\"figs/d02/d02_temperatura.gif\" />"
   ]
  },
  {
   "cell_type": "markdown",
   "id": "5d53cf64",
   "metadata": {},
   "source": [
    "## Dominio 3\n"
   ]
  },
  {
   "cell_type": "code",
   "execution_count": 10,
   "id": "bca4463c",
   "metadata": {},
   "outputs": [],
   "source": [
    "gif_temperatura('wrfout_d03_2021-05-11_00:00:00',\"03\")"
   ]
  },
  {
   "cell_type": "markdown",
   "id": "ccc4d1bd",
   "metadata": {},
   "source": [
    "<img src=\"figs/d03/d03_temperatura.gif\" />"
   ]
  },
  {
   "cell_type": "markdown",
   "id": "f116f451",
   "metadata": {},
   "source": [
    "# Scrip para mostrar los 3 dominios a la vez"
   ]
  },
  {
   "cell_type": "code",
   "execution_count": 4,
   "id": "71a9bee4",
   "metadata": {},
   "outputs": [],
   "source": [
    "# Abrir el dataset\n",
    "def gif_temperatura_3_doms(fichero):\n",
    "    ncfile_01 = Dataset(fichero[0])\n",
    "    ncfile_02 = Dataset(fichero[1])\n",
    "    ncfile_03 = Dataset(fichero[2])\n",
    "\n",
    "    for i in range(0,169):\n",
    "        # Leer la presión a nivel del mar en eltiempo t \n",
    "        T_01 = getvar(ncfile_01, \"T2\",timeidx=i)\n",
    "        T_02 = getvar(ncfile_02, \"T2\",timeidx=i)\n",
    "        T_03 = getvar(ncfile_03, \"T2\",timeidx=i)\n",
    "    \n",
    "        \n",
    "        T_03 = smooth2d(T_03, 3, cenweight=4)\n",
    "        T_02 = smooth2d(T_02, 3, cenweight=4)\n",
    "        \n",
    "        \n",
    "        niveles = [j for j in range(270,302, 1)]\n",
    "        #Para leer la proyección en la que se ha hecho\n",
    "        cart_proj = get_cartopy(T_03)\n",
    "\n",
    "        # Crear la figura para mostrarlo\n",
    "        fig = plt.figure(figsize=(15, 6))\n",
    "        \n",
    "        \n",
    "        #Ciudad de Madrid\n",
    "        # Para leer la latitud y la longitud\n",
    "        lats, lons = latlon_coords(T_03)\n",
    "        \n",
    "        ax = fig.add_subplot(1, 5, (1,4), projection=cart_proj)\n",
    "        # Set the map bounds\n",
    "        ax.set_xlim(cartopy_xlim(T_03))\n",
    "        ax.set_ylim(cartopy_ylim(T_03))\n",
    "        \n",
    "        ax.set_title('Temperatura a 2 metro(K) en Madrid \\n Día {} Hora {}:00:00'.format(int(i*3/24)+11,(i*3-int(i*3/24)*24)), fontsize=16)\n",
    "        ax.coastlines('50m', linewidth=0.8)\n",
    "    \n",
    "        #Para hacer el contorno de los puntos que tienen misma presión\n",
    "        plt.contour(to_np(lons), to_np(lats), to_np(T_03),levels=niveles, \n",
    "                    colors=\"gray\",\n",
    "                    transform=crs.PlateCarree(),linewidth=0.1)\n",
    "        #Para rellenar lo puntos que tienen la misma presión\n",
    "        contorno_slp= plt.contourf(to_np(lons), to_np(lats), to_np(T_03), 10,\n",
    "                     transform=crs.PlateCarree(),\n",
    "                    levels=niveles,\n",
    "                     cmap=get_cmap(\"jet\"))\n",
    "\n",
    "        # Add a color bar\n",
    "        plt.colorbar(contorno_slp,ax=ax, shrink=.98)\n",
    "        ax.add_feature(stt, linewidth=0.2, edgecolor='black')\n",
    "        \n",
    "        #Mostrar las carreteras \n",
    "        ax.add_feature(roads,linewidth=.4, edgecolor=\"black\")\n",
    "\n",
    "        # Add the gridlines\n",
    "        ax.gridlines(color=\"gray\", linestyle=\"dotted\")\n",
    "\n",
    "        \n",
    "        \n",
    "        \n",
    "        # Comunidad de Madrid\n",
    "        lats, lons = latlon_coords(T_02)\n",
    "        \n",
    "        ax_2 = fig.add_subplot(2, 5, 5,projection=cart_proj)\n",
    "        \n",
    "        ax_2.set_xlim(cartopy_xlim(T_02))\n",
    "        ax_2.set_ylim(cartopy_ylim(T_02))\n",
    "        \n",
    "        ax_2.set_title('Comunidad de Madrid', fontsize=8)\n",
    "        \n",
    "        ax_2.coastlines('50m', linewidth=0.8)\n",
    "\n",
    "        \n",
    "        #plt.contour(to_np(lons), to_np(lats), to_np(T_02),levels=niveles,  colors=\"gray\",transform=crs.PlateCarree(),linewidth=0.1)\n",
    "                  \n",
    "        \n",
    "                    \n",
    "        #Para rellenar lo puntos que tienen la misma presión\n",
    "        contorno_slp= plt.contourf(to_np(lons), to_np(lats), to_np(T_02),\n",
    "                     transform=crs.PlateCarree(),\n",
    "                    levels=niveles,\n",
    "                     cmap=get_cmap(\"jet\"))\n",
    "        \n",
    "        ax_2.add_feature(stt,     linewidth=0.5, edgecolor='black')\n",
    "        ax_2.add_feature(stt_prv, linewidth=0.2, edgecolor='black')\n",
    "        ax_2.add_feature(roads,linewidth=.4, edgecolor=\"black\")\n",
    "        \n",
    "        \n",
    "        \n",
    "        \n",
    "        #España\n",
    "        lats, lons = latlon_coords(T_01)\n",
    "        \n",
    "        ax_1 = fig.add_subplot(2, 5, 10, projection=cart_proj)\n",
    "        \n",
    "        ax_1.set_title('España', fontsize=8)\n",
    "        ax_1.coastlines('50m', linewidth=0.8)\n",
    "        \n",
    "        #plt.contour(to_np(lons), to_np(lats), to_np(T_01),levels=niveles, colors=\"gray\",transform=crs.PlateCarree(),linewidth=0.1)\n",
    "                    \n",
    "        #Para rellenar lo puntos que tienen la misma presión\n",
    "        contorno_slp= plt.contourf(to_np(lons), to_np(lats), to_np(T_01),\n",
    "                     transform=crs.PlateCarree(),\n",
    "                    levels=niveles,\n",
    "                     cmap=get_cmap(\"jet\"))\n",
    "        \n",
    "        ax_1.add_feature(stt,     linewidth=0.5, edgecolor='black', zorder=0)\n",
    "        ax_1.add_feature(stt_prv, linewidth=0.2, edgecolor='black', zorder=5)\n",
    "        ax_1.add_feature(roads,linewidth=.4, edgecolor=\"black\")\n",
    "\n",
    "        \n",
    "        \n",
    "        plt.savefig('figs/temperatura/temperatura_{}.png'.format(i))\n",
    "        #Para que no se muestren las imágenes\n",
    "        plt.close(fig)\n",
    "\n",
    "    with imageio.get_writer('figs/temperatura.gif', mode='I') as writer:\n",
    "            for i in range(0,56):\n",
    "                for j in range(0,3):\n",
    "                    filename = 'figs/temperatura/temperatura_{}.png'.format(i)\n",
    "                    image = imageio.imread(filename)\n",
    "                    writer.append_data(image)    "
   ]
  },
  {
   "cell_type": "code",
   "execution_count": 5,
   "id": "def5af60",
   "metadata": {},
   "outputs": [
    {
     "name": "stderr",
     "output_type": "stream",
     "text": [
      "/home/fernan/miniconda3/envs/ncl_stable/lib/python3.8/site-packages/cartopy/mpl/geoaxes.py:1478: UserWarning: The following kwargs were not used by contour: 'linewidth'\n",
      "  result = matplotlib.axes.Axes.contour(self, *args, **kwargs)\n"
     ]
    }
   ],
   "source": [
    "gif_temperatura_3_doms(['wrfout_d01_2021-05-11_00:00:00',\n",
    "                        'wrfout_d02_2021-05-11_00:00:00',\n",
    "                        'wrfout_d03_2021-05-11_00:00:00'])"
   ]
  },
  {
   "cell_type": "code",
   "execution_count": null,
   "id": "e8b30bba",
   "metadata": {},
   "outputs": [],
   "source": []
  }
 ],
 "metadata": {
  "kernelspec": {
   "display_name": "Python 3",
   "language": "python",
   "name": "python3"
  },
  "language_info": {
   "codemirror_mode": {
    "name": "ipython",
    "version": 3
   },
   "file_extension": ".py",
   "mimetype": "text/x-python",
   "name": "python",
   "nbconvert_exporter": "python",
   "pygments_lexer": "ipython3",
   "version": "3.8.8"
  }
 },
 "nbformat": 4,
 "nbformat_minor": 5
}
